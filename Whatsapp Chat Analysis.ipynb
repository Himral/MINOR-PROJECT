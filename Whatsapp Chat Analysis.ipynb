{
 "cells": [
  {
   "cell_type": "code",
   "execution_count": 2,
   "id": "ec6afe42",
   "metadata": {},
   "outputs": [],
   "source": [
    "import re\n",
    "import pandas as pd"
   ]
  },
  {
   "cell_type": "code",
   "execution_count": 3,
   "id": "6f9fd1f7",
   "metadata": {},
   "outputs": [],
   "source": [
    "f = open('WhatsAppChat.txt', 'r', encoding = 'utf-8')"
   ]
  },
  {
   "cell_type": "code",
   "execution_count": 4,
   "id": "43963cb5",
   "metadata": {},
   "outputs": [],
   "source": [
    "data = f.read()"
   ]
  },
  {
   "cell_type": "code",
   "execution_count": 1,
   "id": "256d5d6e",
   "metadata": {},
   "outputs": [
    {
     "ename": "NameError",
     "evalue": "name 'data' is not defined",
     "output_type": "error",
     "traceback": [
      "\u001b[0;31m---------------------------------------------------------------------------\u001b[0m",
      "\u001b[0;31mNameError\u001b[0m                                 Traceback (most recent call last)",
      "\u001b[1;32m/Users/shivamgarg/Desktop/Git_Repos/MINOR PROJECT/Whatsapp Chat Analysis.ipynb Cell 4\u001b[0m line \u001b[0;36m1\n\u001b[0;32m----> <a href='vscode-notebook-cell:/Users/shivamgarg/Desktop/Git_Repos/MINOR%20PROJECT/Whatsapp%20Chat%20Analysis.ipynb#W3sZmlsZQ%3D%3D?line=0'>1</a>\u001b[0m \u001b[39mprint\u001b[39m(data)\n",
      "\u001b[0;31mNameError\u001b[0m: name 'data' is not defined"
     ]
    }
   ],
   "source": [
    "print(data)"
   ]
  },
  {
   "cell_type": "code",
   "execution_count": 6,
   "id": "456b46bd",
   "metadata": {},
   "outputs": [],
   "source": [
    "pattern = r'\\d{1,2}/\\d{1,2}/\\d{2,4},\\s\\d{1,2}:\\d{2}\\s-\\s'"
   ]
  },
  {
   "cell_type": "code",
   "execution_count": 7,
   "id": "7d2ae09d",
   "metadata": {
    "scrolled": true
   },
   "outputs": [],
   "source": [
    "messages = re.split(pattern, data)[1:]"
   ]
  },
  {
   "cell_type": "code",
   "execution_count": 8,
   "id": "b2b87e6b",
   "metadata": {},
   "outputs": [],
   "source": [
    "dates = re.findall(pattern, data)\n"
   ]
  },
  {
   "cell_type": "code",
   "execution_count": 11,
   "id": "684033c1",
   "metadata": {},
   "outputs": [
    {
     "data": {
      "text/html": [
       "<div>\n",
       "<style scoped>\n",
       "    .dataframe tbody tr th:only-of-type {\n",
       "        vertical-align: middle;\n",
       "    }\n",
       "\n",
       "    .dataframe tbody tr th {\n",
       "        vertical-align: top;\n",
       "    }\n",
       "\n",
       "    .dataframe thead th {\n",
       "        text-align: right;\n",
       "    }\n",
       "</style>\n",
       "<table border=\"1\" class=\"dataframe\">\n",
       "  <thead>\n",
       "    <tr style=\"text-align: right;\">\n",
       "      <th></th>\n",
       "      <th>user_message</th>\n",
       "      <th>date</th>\n",
       "    </tr>\n",
       "  </thead>\n",
       "  <tbody>\n",
       "    <tr>\n",
       "      <th>0</th>\n",
       "      <td>Messages and calls are end-to-end encrypted. N...</td>\n",
       "      <td>2023-10-21 21:54:00</td>\n",
       "    </tr>\n",
       "    <tr>\n",
       "      <th>1</th>\n",
       "      <td>You created group \"🎉Deal bonanza🎉\"\\n</td>\n",
       "      <td>2023-10-21 21:54:00</td>\n",
       "    </tr>\n",
       "    <tr>\n",
       "      <th>2</th>\n",
       "      <td>Vidhi Rastogi: Bhai isme or logo ko add Karo o...</td>\n",
       "      <td>2023-10-21 21:55:00</td>\n",
       "    </tr>\n",
       "    <tr>\n",
       "      <th>3</th>\n",
       "      <td>Vidhi Rastogi: Jisme ya to links jo products ke\\n</td>\n",
       "      <td>2023-10-21 21:55:00</td>\n",
       "    </tr>\n",
       "    <tr>\n",
       "      <th>4</th>\n",
       "      <td>Vidhi Rastogi: Ya phir products ke related FAQ...</td>\n",
       "      <td>2023-10-21 21:55:00</td>\n",
       "    </tr>\n",
       "  </tbody>\n",
       "</table>\n",
       "</div>"
      ],
      "text/plain": [
       "                                        user_message                date\n",
       "0  Messages and calls are end-to-end encrypted. N... 2023-10-21 21:54:00\n",
       "1               You created group \"🎉Deal bonanza🎉\"\\n 2023-10-21 21:54:00\n",
       "2  Vidhi Rastogi: Bhai isme or logo ko add Karo o... 2023-10-21 21:55:00\n",
       "3  Vidhi Rastogi: Jisme ya to links jo products ke\\n 2023-10-21 21:55:00\n",
       "4  Vidhi Rastogi: Ya phir products ke related FAQ... 2023-10-21 21:55:00"
      ]
     },
     "execution_count": 11,
     "metadata": {},
     "output_type": "execute_result"
    }
   ],
   "source": [
    "df = pd.DataFrame({'user_message': messages})\n",
    "    # convert message_date type\n",
    "df['message_date'] = pd.to_datetime(df['message_date'], format='%m/%d/%y, %H:%M - ')\n",
    "\n",
    "df.rename(columns={'message_date': 'date'}, inplace=True)\n",
    "df.head()\n"
   ]
  },
  {
   "cell_type": "code",
   "execution_count": 12,
   "id": "56c0677e",
   "metadata": {},
   "outputs": [
    {
     "data": {
      "text/plain": [
       "(67, 2)"
      ]
     },
     "execution_count": 12,
     "metadata": {},
     "output_type": "execute_result"
    }
   ],
   "source": [
    "df.shape"
   ]
  },
  {
   "cell_type": "code",
   "execution_count": 13,
   "id": "a18a7995",
   "metadata": {},
   "outputs": [
    {
     "data": {
      "text/html": [
       "<div>\n",
       "<style scoped>\n",
       "    .dataframe tbody tr th:only-of-type {\n",
       "        vertical-align: middle;\n",
       "    }\n",
       "\n",
       "    .dataframe tbody tr th {\n",
       "        vertical-align: top;\n",
       "    }\n",
       "\n",
       "    .dataframe thead th {\n",
       "        text-align: right;\n",
       "    }\n",
       "</style>\n",
       "<table border=\"1\" class=\"dataframe\">\n",
       "  <thead>\n",
       "    <tr style=\"text-align: right;\">\n",
       "      <th></th>\n",
       "      <th>date</th>\n",
       "      <th>user</th>\n",
       "      <th>message</th>\n",
       "    </tr>\n",
       "  </thead>\n",
       "  <tbody>\n",
       "    <tr>\n",
       "      <th>0</th>\n",
       "      <td>2023-10-21 21:54:00</td>\n",
       "      <td>group_notification</td>\n",
       "      <td>Messages and calls are end-to-end encrypted. N...</td>\n",
       "    </tr>\n",
       "    <tr>\n",
       "      <th>1</th>\n",
       "      <td>2023-10-21 21:54:00</td>\n",
       "      <td>group_notification</td>\n",
       "      <td>You created group \"🎉Deal bonanza🎉\"\\n</td>\n",
       "    </tr>\n",
       "    <tr>\n",
       "      <th>2</th>\n",
       "      <td>2023-10-21 21:55:00</td>\n",
       "      <td>Vidhi Rastogi</td>\n",
       "      <td>Bhai isme or logo ko add Karo or unhe bolo ki ...</td>\n",
       "    </tr>\n",
       "    <tr>\n",
       "      <th>3</th>\n",
       "      <td>2023-10-21 21:55:00</td>\n",
       "      <td>Vidhi Rastogi</td>\n",
       "      <td>Jisme ya to links jo products ke\\n</td>\n",
       "    </tr>\n",
       "    <tr>\n",
       "      <th>4</th>\n",
       "      <td>2023-10-21 21:55:00</td>\n",
       "      <td>Vidhi Rastogi</td>\n",
       "      <td>Ya phir products ke related FAQ ho or reviews ...</td>\n",
       "    </tr>\n",
       "  </tbody>\n",
       "</table>\n",
       "</div>"
      ],
      "text/plain": [
       "                 date                user  \\\n",
       "0 2023-10-21 21:54:00  group_notification   \n",
       "1 2023-10-21 21:54:00  group_notification   \n",
       "2 2023-10-21 21:55:00       Vidhi Rastogi   \n",
       "3 2023-10-21 21:55:00       Vidhi Rastogi   \n",
       "4 2023-10-21 21:55:00       Vidhi Rastogi   \n",
       "\n",
       "                                             message  \n",
       "0  Messages and calls are end-to-end encrypted. N...  \n",
       "1               You created group \"🎉Deal bonanza🎉\"\\n  \n",
       "2  Bhai isme or logo ko add Karo or unhe bolo ki ...  \n",
       "3                 Jisme ya to links jo products ke\\n  \n",
       "4  Ya phir products ke related FAQ ho or reviews ...  "
      ]
     },
     "execution_count": 13,
     "metadata": {},
     "output_type": "execute_result"
    }
   ],
   "source": [
    "users = []\n",
    "messages = []\n",
    "for message in df['user_message']:\n",
    "    entry = re.split('([\\w\\W]+?):\\s', message)\n",
    "    try:\n",
    "        user = entry[1]\n",
    "        message_text = entry[2]\n",
    "    except IndexError:\n",
    "        user = 'group_notification'\n",
    "        message_text = entry[0]\n",
    "    users.append(user)\n",
    "    messages.append(message_text)\n",
    "\n",
    "df['user'] = users\n",
    "df['message'] = messages\n",
    "df.drop(columns=['user_message'], inplace=True)\n",
    "df.head()"
   ]
  },
  {
   "cell_type": "code",
   "execution_count": 14,
   "id": "74079402",
   "metadata": {},
   "outputs": [],
   "source": [
    "df['year'] = df['date'].dt.year"
   ]
  },
  {
   "cell_type": "code",
   "execution_count": 15,
   "id": "4d161140",
   "metadata": {},
   "outputs": [
    {
     "data": {
      "text/html": [
       "<div>\n",
       "<style scoped>\n",
       "    .dataframe tbody tr th:only-of-type {\n",
       "        vertical-align: middle;\n",
       "    }\n",
       "\n",
       "    .dataframe tbody tr th {\n",
       "        vertical-align: top;\n",
       "    }\n",
       "\n",
       "    .dataframe thead th {\n",
       "        text-align: right;\n",
       "    }\n",
       "</style>\n",
       "<table border=\"1\" class=\"dataframe\">\n",
       "  <thead>\n",
       "    <tr style=\"text-align: right;\">\n",
       "      <th></th>\n",
       "      <th>date</th>\n",
       "      <th>user</th>\n",
       "      <th>message</th>\n",
       "      <th>year</th>\n",
       "    </tr>\n",
       "  </thead>\n",
       "  <tbody>\n",
       "    <tr>\n",
       "      <th>0</th>\n",
       "      <td>2023-10-21 21:54:00</td>\n",
       "      <td>group_notification</td>\n",
       "      <td>Messages and calls are end-to-end encrypted. N...</td>\n",
       "      <td>2023</td>\n",
       "    </tr>\n",
       "    <tr>\n",
       "      <th>1</th>\n",
       "      <td>2023-10-21 21:54:00</td>\n",
       "      <td>group_notification</td>\n",
       "      <td>You created group \"🎉Deal bonanza🎉\"\\n</td>\n",
       "      <td>2023</td>\n",
       "    </tr>\n",
       "    <tr>\n",
       "      <th>2</th>\n",
       "      <td>2023-10-21 21:55:00</td>\n",
       "      <td>Vidhi Rastogi</td>\n",
       "      <td>Bhai isme or logo ko add Karo or unhe bolo ki ...</td>\n",
       "      <td>2023</td>\n",
       "    </tr>\n",
       "    <tr>\n",
       "      <th>3</th>\n",
       "      <td>2023-10-21 21:55:00</td>\n",
       "      <td>Vidhi Rastogi</td>\n",
       "      <td>Jisme ya to links jo products ke\\n</td>\n",
       "      <td>2023</td>\n",
       "    </tr>\n",
       "    <tr>\n",
       "      <th>4</th>\n",
       "      <td>2023-10-21 21:55:00</td>\n",
       "      <td>Vidhi Rastogi</td>\n",
       "      <td>Ya phir products ke related FAQ ho or reviews ...</td>\n",
       "      <td>2023</td>\n",
       "    </tr>\n",
       "  </tbody>\n",
       "</table>\n",
       "</div>"
      ],
      "text/plain": [
       "                 date                user  \\\n",
       "0 2023-10-21 21:54:00  group_notification   \n",
       "1 2023-10-21 21:54:00  group_notification   \n",
       "2 2023-10-21 21:55:00       Vidhi Rastogi   \n",
       "3 2023-10-21 21:55:00       Vidhi Rastogi   \n",
       "4 2023-10-21 21:55:00       Vidhi Rastogi   \n",
       "\n",
       "                                             message  year  \n",
       "0  Messages and calls are end-to-end encrypted. N...  2023  \n",
       "1               You created group \"🎉Deal bonanza🎉\"\\n  2023  \n",
       "2  Bhai isme or logo ko add Karo or unhe bolo ki ...  2023  \n",
       "3                 Jisme ya to links jo products ke\\n  2023  \n",
       "4  Ya phir products ke related FAQ ho or reviews ...  2023  "
      ]
     },
     "execution_count": 15,
     "metadata": {},
     "output_type": "execute_result"
    }
   ],
   "source": [
    "df.head()"
   ]
  },
  {
   "cell_type": "code",
   "execution_count": 16,
   "id": "3ad336de",
   "metadata": {},
   "outputs": [
    {
     "data": {
      "text/html": [
       "<div>\n",
       "<style scoped>\n",
       "    .dataframe tbody tr th:only-of-type {\n",
       "        vertical-align: middle;\n",
       "    }\n",
       "\n",
       "    .dataframe tbody tr th {\n",
       "        vertical-align: top;\n",
       "    }\n",
       "\n",
       "    .dataframe thead th {\n",
       "        text-align: right;\n",
       "    }\n",
       "</style>\n",
       "<table border=\"1\" class=\"dataframe\">\n",
       "  <thead>\n",
       "    <tr style=\"text-align: right;\">\n",
       "      <th></th>\n",
       "      <th>date</th>\n",
       "      <th>user</th>\n",
       "      <th>message</th>\n",
       "      <th>year</th>\n",
       "      <th>month</th>\n",
       "    </tr>\n",
       "  </thead>\n",
       "  <tbody>\n",
       "    <tr>\n",
       "      <th>0</th>\n",
       "      <td>2023-10-21 21:54:00</td>\n",
       "      <td>group_notification</td>\n",
       "      <td>Messages and calls are end-to-end encrypted. N...</td>\n",
       "      <td>2023</td>\n",
       "      <td>October</td>\n",
       "    </tr>\n",
       "    <tr>\n",
       "      <th>1</th>\n",
       "      <td>2023-10-21 21:54:00</td>\n",
       "      <td>group_notification</td>\n",
       "      <td>You created group \"🎉Deal bonanza🎉\"\\n</td>\n",
       "      <td>2023</td>\n",
       "      <td>October</td>\n",
       "    </tr>\n",
       "    <tr>\n",
       "      <th>2</th>\n",
       "      <td>2023-10-21 21:55:00</td>\n",
       "      <td>Vidhi Rastogi</td>\n",
       "      <td>Bhai isme or logo ko add Karo or unhe bolo ki ...</td>\n",
       "      <td>2023</td>\n",
       "      <td>October</td>\n",
       "    </tr>\n",
       "    <tr>\n",
       "      <th>3</th>\n",
       "      <td>2023-10-21 21:55:00</td>\n",
       "      <td>Vidhi Rastogi</td>\n",
       "      <td>Jisme ya to links jo products ke\\n</td>\n",
       "      <td>2023</td>\n",
       "      <td>October</td>\n",
       "    </tr>\n",
       "    <tr>\n",
       "      <th>4</th>\n",
       "      <td>2023-10-21 21:55:00</td>\n",
       "      <td>Vidhi Rastogi</td>\n",
       "      <td>Ya phir products ke related FAQ ho or reviews ...</td>\n",
       "      <td>2023</td>\n",
       "      <td>October</td>\n",
       "    </tr>\n",
       "  </tbody>\n",
       "</table>\n",
       "</div>"
      ],
      "text/plain": [
       "                 date                user  \\\n",
       "0 2023-10-21 21:54:00  group_notification   \n",
       "1 2023-10-21 21:54:00  group_notification   \n",
       "2 2023-10-21 21:55:00       Vidhi Rastogi   \n",
       "3 2023-10-21 21:55:00       Vidhi Rastogi   \n",
       "4 2023-10-21 21:55:00       Vidhi Rastogi   \n",
       "\n",
       "                                             message  year    month  \n",
       "0  Messages and calls are end-to-end encrypted. N...  2023  October  \n",
       "1               You created group \"🎉Deal bonanza🎉\"\\n  2023  October  \n",
       "2  Bhai isme or logo ko add Karo or unhe bolo ki ...  2023  October  \n",
       "3                 Jisme ya to links jo products ke\\n  2023  October  \n",
       "4  Ya phir products ke related FAQ ho or reviews ...  2023  October  "
      ]
     },
     "execution_count": 16,
     "metadata": {},
     "output_type": "execute_result"
    }
   ],
   "source": [
    "df['month'] = df['date'].dt.month_name()\n",
    "df.head()"
   ]
  },
  {
   "cell_type": "code",
   "execution_count": 17,
   "id": "773deedd",
   "metadata": {},
   "outputs": [
    {
     "ename": "KeyError",
     "evalue": "'Year'",
     "output_type": "error",
     "traceback": [
      "\u001b[0;31m---------------------------------------------------------------------------\u001b[0m",
      "\u001b[0;31mKeyError\u001b[0m                                  Traceback (most recent call last)",
      "File \u001b[0;32m~/anaconda3/lib/python3.11/site-packages/pandas/core/indexes/base.py:3802\u001b[0m, in \u001b[0;36mIndex.get_loc\u001b[0;34m(self, key, method, tolerance)\u001b[0m\n\u001b[1;32m   3801\u001b[0m \u001b[38;5;28;01mtry\u001b[39;00m:\n\u001b[0;32m-> 3802\u001b[0m     \u001b[38;5;28;01mreturn\u001b[39;00m \u001b[38;5;28mself\u001b[39m\u001b[38;5;241m.\u001b[39m_engine\u001b[38;5;241m.\u001b[39mget_loc(casted_key)\n\u001b[1;32m   3803\u001b[0m \u001b[38;5;28;01mexcept\u001b[39;00m \u001b[38;5;167;01mKeyError\u001b[39;00m \u001b[38;5;28;01mas\u001b[39;00m err:\n",
      "File \u001b[0;32m~/anaconda3/lib/python3.11/site-packages/pandas/_libs/index.pyx:138\u001b[0m, in \u001b[0;36mpandas._libs.index.IndexEngine.get_loc\u001b[0;34m()\u001b[0m\n",
      "File \u001b[0;32m~/anaconda3/lib/python3.11/site-packages/pandas/_libs/index.pyx:165\u001b[0m, in \u001b[0;36mpandas._libs.index.IndexEngine.get_loc\u001b[0;34m()\u001b[0m\n",
      "File \u001b[0;32mpandas/_libs/hashtable_class_helper.pxi:5745\u001b[0m, in \u001b[0;36mpandas._libs.hashtable.PyObjectHashTable.get_item\u001b[0;34m()\u001b[0m\n",
      "File \u001b[0;32mpandas/_libs/hashtable_class_helper.pxi:5753\u001b[0m, in \u001b[0;36mpandas._libs.hashtable.PyObjectHashTable.get_item\u001b[0;34m()\u001b[0m\n",
      "\u001b[0;31mKeyError\u001b[0m: 'Year'",
      "\nThe above exception was the direct cause of the following exception:\n",
      "\u001b[0;31mKeyError\u001b[0m                                  Traceback (most recent call last)",
      "Cell \u001b[0;32mIn[17], line 1\u001b[0m\n\u001b[0;32m----> 1\u001b[0m \u001b[38;5;28;01mdel\u001b[39;00m df[\u001b[38;5;124m'\u001b[39m\u001b[38;5;124mYear\u001b[39m\u001b[38;5;124m'\u001b[39m]\n\u001b[1;32m      2\u001b[0m df\u001b[38;5;241m.\u001b[39mhead()\n",
      "File \u001b[0;32m~/anaconda3/lib/python3.11/site-packages/pandas/core/generic.py:4243\u001b[0m, in \u001b[0;36mNDFrame.__delitem__\u001b[0;34m(self, key)\u001b[0m\n\u001b[1;32m   4238\u001b[0m             deleted \u001b[38;5;241m=\u001b[39m \u001b[38;5;28;01mTrue\u001b[39;00m\n\u001b[1;32m   4239\u001b[0m \u001b[38;5;28;01mif\u001b[39;00m \u001b[38;5;129;01mnot\u001b[39;00m deleted:\n\u001b[1;32m   4240\u001b[0m     \u001b[38;5;66;03m# If the above loop ran and didn't delete anything because\u001b[39;00m\n\u001b[1;32m   4241\u001b[0m     \u001b[38;5;66;03m# there was no match, this call should raise the appropriate\u001b[39;00m\n\u001b[1;32m   4242\u001b[0m     \u001b[38;5;66;03m# exception:\u001b[39;00m\n\u001b[0;32m-> 4243\u001b[0m     loc \u001b[38;5;241m=\u001b[39m \u001b[38;5;28mself\u001b[39m\u001b[38;5;241m.\u001b[39maxes[\u001b[38;5;241m-\u001b[39m\u001b[38;5;241m1\u001b[39m]\u001b[38;5;241m.\u001b[39mget_loc(key)\n\u001b[1;32m   4244\u001b[0m     \u001b[38;5;28mself\u001b[39m\u001b[38;5;241m.\u001b[39m_mgr \u001b[38;5;241m=\u001b[39m \u001b[38;5;28mself\u001b[39m\u001b[38;5;241m.\u001b[39m_mgr\u001b[38;5;241m.\u001b[39midelete(loc)\n\u001b[1;32m   4246\u001b[0m \u001b[38;5;66;03m# delete from the caches\u001b[39;00m\n",
      "File \u001b[0;32m~/anaconda3/lib/python3.11/site-packages/pandas/core/indexes/base.py:3804\u001b[0m, in \u001b[0;36mIndex.get_loc\u001b[0;34m(self, key, method, tolerance)\u001b[0m\n\u001b[1;32m   3802\u001b[0m     \u001b[38;5;28;01mreturn\u001b[39;00m \u001b[38;5;28mself\u001b[39m\u001b[38;5;241m.\u001b[39m_engine\u001b[38;5;241m.\u001b[39mget_loc(casted_key)\n\u001b[1;32m   3803\u001b[0m \u001b[38;5;28;01mexcept\u001b[39;00m \u001b[38;5;167;01mKeyError\u001b[39;00m \u001b[38;5;28;01mas\u001b[39;00m err:\n\u001b[0;32m-> 3804\u001b[0m     \u001b[38;5;28;01mraise\u001b[39;00m \u001b[38;5;167;01mKeyError\u001b[39;00m(key) \u001b[38;5;28;01mfrom\u001b[39;00m \u001b[38;5;21;01merr\u001b[39;00m\n\u001b[1;32m   3805\u001b[0m \u001b[38;5;28;01mexcept\u001b[39;00m \u001b[38;5;167;01mTypeError\u001b[39;00m:\n\u001b[1;32m   3806\u001b[0m     \u001b[38;5;66;03m# If we have a listlike key, _check_indexing_error will raise\u001b[39;00m\n\u001b[1;32m   3807\u001b[0m     \u001b[38;5;66;03m#  InvalidIndexError. Otherwise we fall through and re-raise\u001b[39;00m\n\u001b[1;32m   3808\u001b[0m     \u001b[38;5;66;03m#  the TypeError.\u001b[39;00m\n\u001b[1;32m   3809\u001b[0m     \u001b[38;5;28mself\u001b[39m\u001b[38;5;241m.\u001b[39m_check_indexing_error(key)\n",
      "\u001b[0;31mKeyError\u001b[0m: 'Year'"
     ]
    }
   ],
   "source": [
    "del df['Year']\n",
    "df.head()"
   ]
  },
  {
   "cell_type": "code",
   "execution_count": null,
   "id": "a11efb3c",
   "metadata": {},
   "outputs": [],
   "source": [
    "df['day'] = df['date'].dt.day\n",
    "df.head()"
   ]
  },
  {
   "cell_type": "code",
   "execution_count": null,
   "id": "f1c5d7f5",
   "metadata": {},
   "outputs": [],
   "source": [
    "df['hour'] = df['date'].dt.hour\n",
    "df.head()"
   ]
  },
  {
   "cell_type": "code",
   "execution_count": 18,
   "id": "2054967e",
   "metadata": {},
   "outputs": [
    {
     "data": {
      "text/html": [
       "<div>\n",
       "<style scoped>\n",
       "    .dataframe tbody tr th:only-of-type {\n",
       "        vertical-align: middle;\n",
       "    }\n",
       "\n",
       "    .dataframe tbody tr th {\n",
       "        vertical-align: top;\n",
       "    }\n",
       "\n",
       "    .dataframe thead th {\n",
       "        text-align: right;\n",
       "    }\n",
       "</style>\n",
       "<table border=\"1\" class=\"dataframe\">\n",
       "  <thead>\n",
       "    <tr style=\"text-align: right;\">\n",
       "      <th></th>\n",
       "      <th>date</th>\n",
       "      <th>user</th>\n",
       "      <th>message</th>\n",
       "      <th>year</th>\n",
       "      <th>month</th>\n",
       "      <th>minute</th>\n",
       "    </tr>\n",
       "  </thead>\n",
       "  <tbody>\n",
       "    <tr>\n",
       "      <th>0</th>\n",
       "      <td>2023-10-21 21:54:00</td>\n",
       "      <td>group_notification</td>\n",
       "      <td>Messages and calls are end-to-end encrypted. N...</td>\n",
       "      <td>2023</td>\n",
       "      <td>October</td>\n",
       "      <td>54</td>\n",
       "    </tr>\n",
       "    <tr>\n",
       "      <th>1</th>\n",
       "      <td>2023-10-21 21:54:00</td>\n",
       "      <td>group_notification</td>\n",
       "      <td>You created group \"🎉Deal bonanza🎉\"\\n</td>\n",
       "      <td>2023</td>\n",
       "      <td>October</td>\n",
       "      <td>54</td>\n",
       "    </tr>\n",
       "    <tr>\n",
       "      <th>2</th>\n",
       "      <td>2023-10-21 21:55:00</td>\n",
       "      <td>Vidhi Rastogi</td>\n",
       "      <td>Bhai isme or logo ko add Karo or unhe bolo ki ...</td>\n",
       "      <td>2023</td>\n",
       "      <td>October</td>\n",
       "      <td>55</td>\n",
       "    </tr>\n",
       "    <tr>\n",
       "      <th>3</th>\n",
       "      <td>2023-10-21 21:55:00</td>\n",
       "      <td>Vidhi Rastogi</td>\n",
       "      <td>Jisme ya to links jo products ke\\n</td>\n",
       "      <td>2023</td>\n",
       "      <td>October</td>\n",
       "      <td>55</td>\n",
       "    </tr>\n",
       "    <tr>\n",
       "      <th>4</th>\n",
       "      <td>2023-10-21 21:55:00</td>\n",
       "      <td>Vidhi Rastogi</td>\n",
       "      <td>Ya phir products ke related FAQ ho or reviews ...</td>\n",
       "      <td>2023</td>\n",
       "      <td>October</td>\n",
       "      <td>55</td>\n",
       "    </tr>\n",
       "  </tbody>\n",
       "</table>\n",
       "</div>"
      ],
      "text/plain": [
       "                 date                user  \\\n",
       "0 2023-10-21 21:54:00  group_notification   \n",
       "1 2023-10-21 21:54:00  group_notification   \n",
       "2 2023-10-21 21:55:00       Vidhi Rastogi   \n",
       "3 2023-10-21 21:55:00       Vidhi Rastogi   \n",
       "4 2023-10-21 21:55:00       Vidhi Rastogi   \n",
       "\n",
       "                                             message  year    month  minute  \n",
       "0  Messages and calls are end-to-end encrypted. N...  2023  October      54  \n",
       "1               You created group \"🎉Deal bonanza🎉\"\\n  2023  October      54  \n",
       "2  Bhai isme or logo ko add Karo or unhe bolo ki ...  2023  October      55  \n",
       "3                 Jisme ya to links jo products ke\\n  2023  October      55  \n",
       "4  Ya phir products ke related FAQ ho or reviews ...  2023  October      55  "
      ]
     },
     "execution_count": 18,
     "metadata": {},
     "output_type": "execute_result"
    }
   ],
   "source": [
    "df['minute'] = df['date'].dt.minute\n",
    "df.head()"
   ]
  },
  {
   "cell_type": "code",
   "execution_count": 19,
   "id": "b5d9fff0",
   "metadata": {},
   "outputs": [
    {
     "data": {
      "text/plain": [
       "535"
      ]
     },
     "execution_count": 19,
     "metadata": {},
     "output_type": "execute_result"
    }
   ],
   "source": [
    "words = []\n",
    "for message in df['message']:\n",
    "    words.extend((message.split()))\n",
    "\n",
    "len(words)"
   ]
  },
  {
   "cell_type": "code",
   "execution_count": 25,
   "id": "a682bb1e",
   "metadata": {},
   "outputs": [],
   "source": [
    "chat_df = {\"User\" :df['user'], \"Message\" : df['message']}\n",
    "\n"
   ]
  },
  {
   "cell_type": "code",
   "execution_count": 26,
   "id": "f523e486",
   "metadata": {},
   "outputs": [
    {
     "data": {
      "text/plain": [
       "{'User': 0     group_notification\n",
       " 1     group_notification\n",
       " 2          Vidhi Rastogi\n",
       " 3          Vidhi Rastogi\n",
       " 4          Vidhi Rastogi\n",
       "              ...        \n",
       " 62             prerna b6\n",
       " 63       +91 70426 40270\n",
       " 64         Vidhi Rastogi\n",
       " 65                Varuni\n",
       " 66         Vidhi Rastogi\n",
       " Name: user, Length: 67, dtype: object,\n",
       " 'Message': 0     Messages and calls are end-to-end encrypted. N...\n",
       " 1                  You created group \"🎉Deal bonanza🎉\"\\n\n",
       " 2     Bhai isme or logo ko add Karo or unhe bolo ki ...\n",
       " 3                    Jisme ya to links jo products ke\\n\n",
       " 4     Ya phir products ke related FAQ ho or reviews ...\n",
       "                             ...                        \n",
       " 62                                         very poorr\\n\n",
       " 63                     i did not receive the cashback\\n\n",
       " 64                               We will look into it\\n\n",
       " 65       The product works fine and is affordable too\\n\n",
       " 66    Voltas 1.4 Ton 3 Star Inverter Split AC at Rs....\n",
       " Name: message, Length: 67, dtype: object}"
      ]
     },
     "execution_count": 26,
     "metadata": {},
     "output_type": "execute_result"
    }
   ],
   "source": [
    "chat_df"
   ]
  },
  {
   "cell_type": "code",
   "execution_count": 27,
   "id": "46312e71",
   "metadata": {},
   "outputs": [],
   "source": [
    "chat_df = pd.DataFrame(chat_df)"
   ]
  },
  {
   "cell_type": "code",
   "execution_count": 28,
   "id": "bdda35a8",
   "metadata": {},
   "outputs": [
    {
     "data": {
      "text/html": [
       "<div>\n",
       "<style scoped>\n",
       "    .dataframe tbody tr th:only-of-type {\n",
       "        vertical-align: middle;\n",
       "    }\n",
       "\n",
       "    .dataframe tbody tr th {\n",
       "        vertical-align: top;\n",
       "    }\n",
       "\n",
       "    .dataframe thead th {\n",
       "        text-align: right;\n",
       "    }\n",
       "</style>\n",
       "<table border=\"1\" class=\"dataframe\">\n",
       "  <thead>\n",
       "    <tr style=\"text-align: right;\">\n",
       "      <th></th>\n",
       "      <th>User</th>\n",
       "      <th>Message</th>\n",
       "    </tr>\n",
       "  </thead>\n",
       "  <tbody>\n",
       "    <tr>\n",
       "      <th>0</th>\n",
       "      <td>group_notification</td>\n",
       "      <td>Messages and calls are end-to-end encrypted. N...</td>\n",
       "    </tr>\n",
       "    <tr>\n",
       "      <th>1</th>\n",
       "      <td>group_notification</td>\n",
       "      <td>You created group \"🎉Deal bonanza🎉\"\\n</td>\n",
       "    </tr>\n",
       "    <tr>\n",
       "      <th>2</th>\n",
       "      <td>Vidhi Rastogi</td>\n",
       "      <td>Bhai isme or logo ko add Karo or unhe bolo ki ...</td>\n",
       "    </tr>\n",
       "    <tr>\n",
       "      <th>3</th>\n",
       "      <td>Vidhi Rastogi</td>\n",
       "      <td>Jisme ya to links jo products ke\\n</td>\n",
       "    </tr>\n",
       "    <tr>\n",
       "      <th>4</th>\n",
       "      <td>Vidhi Rastogi</td>\n",
       "      <td>Ya phir products ke related FAQ ho or reviews ...</td>\n",
       "    </tr>\n",
       "    <tr>\n",
       "      <th>...</th>\n",
       "      <td>...</td>\n",
       "      <td>...</td>\n",
       "    </tr>\n",
       "    <tr>\n",
       "      <th>62</th>\n",
       "      <td>prerna b6</td>\n",
       "      <td>very poorr\\n</td>\n",
       "    </tr>\n",
       "    <tr>\n",
       "      <th>63</th>\n",
       "      <td>+91 70426 40270</td>\n",
       "      <td>i did not receive the cashback\\n</td>\n",
       "    </tr>\n",
       "    <tr>\n",
       "      <th>64</th>\n",
       "      <td>Vidhi Rastogi</td>\n",
       "      <td>We will look into it\\n</td>\n",
       "    </tr>\n",
       "    <tr>\n",
       "      <th>65</th>\n",
       "      <td>Varuni</td>\n",
       "      <td>The product works fine and is affordable too\\n</td>\n",
       "    </tr>\n",
       "    <tr>\n",
       "      <th>66</th>\n",
       "      <td>Vidhi Rastogi</td>\n",
       "      <td>Voltas 1.4 Ton 3 Star Inverter Split AC at Rs....</td>\n",
       "    </tr>\n",
       "  </tbody>\n",
       "</table>\n",
       "<p>67 rows × 2 columns</p>\n",
       "</div>"
      ],
      "text/plain": [
       "                  User                                            Message\n",
       "0   group_notification  Messages and calls are end-to-end encrypted. N...\n",
       "1   group_notification               You created group \"🎉Deal bonanza🎉\"\\n\n",
       "2        Vidhi Rastogi  Bhai isme or logo ko add Karo or unhe bolo ki ...\n",
       "3        Vidhi Rastogi                 Jisme ya to links jo products ke\\n\n",
       "4        Vidhi Rastogi  Ya phir products ke related FAQ ho or reviews ...\n",
       "..                 ...                                                ...\n",
       "62           prerna b6                                       very poorr\\n\n",
       "63     +91 70426 40270                   i did not receive the cashback\\n\n",
       "64       Vidhi Rastogi                             We will look into it\\n\n",
       "65              Varuni     The product works fine and is affordable too\\n\n",
       "66       Vidhi Rastogi  Voltas 1.4 Ton 3 Star Inverter Split AC at Rs....\n",
       "\n",
       "[67 rows x 2 columns]"
      ]
     },
     "execution_count": 28,
     "metadata": {},
     "output_type": "execute_result"
    }
   ],
   "source": [
    "chat_df"
   ]
  },
  {
   "cell_type": "code",
   "execution_count": 35,
   "id": "5eacfd20",
   "metadata": {},
   "outputs": [
    {
     "name": "stdout",
     "output_type": "stream",
     "text": [
      "False\n",
      "False\n",
      "False\n",
      "False\n",
      "False\n",
      "False\n",
      "False\n",
      "True\n",
      "False\n",
      "True\n",
      "False\n",
      "False\n",
      "False\n",
      "True\n"
     ]
    }
   ],
   "source": [
    "for c in chat_df[chat_df[\"User\"]== \"Vidhi Rastogi\"][\"Message\"]:\n",
    "    if \"https\" in c:\n",
    "        print(True)\n",
    "    else:\n",
    "        print(False)"
   ]
  },
  {
   "cell_type": "code",
   "execution_count": null,
   "id": "4cb541d2",
   "metadata": {},
   "outputs": [],
   "source": []
  }
 ],
 "metadata": {
  "kernelspec": {
   "display_name": "Python 3 (ipykernel)",
   "language": "python",
   "name": "python3"
  },
  "language_info": {
   "codemirror_mode": {
    "name": "ipython",
    "version": 3
   },
   "file_extension": ".py",
   "mimetype": "text/x-python",
   "name": "python",
   "nbconvert_exporter": "python",
   "pygments_lexer": "ipython3",
   "version": "3.11.4"
  }
 },
 "nbformat": 4,
 "nbformat_minor": 5
}
